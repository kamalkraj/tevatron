{
 "cells": [
  {
   "cell_type": "code",
   "execution_count": 1,
   "metadata": {},
   "outputs": [
    {
     "name": "stderr",
     "output_type": "stream",
     "text": [
      "/usr/local/lib/python3.10/dist-packages/tqdm/auto.py:21: TqdmWarning: IProgress not found. Please update jupyter and ipywidgets. See https://ipywidgets.readthedocs.io/en/stable/user_install.html\n",
      "  from .autonotebook import tqdm as notebook_tqdm\n"
     ]
    }
   ],
   "source": [
    "import json\n",
    "import random\n",
    "from uuid import uuid4\n",
    "import pandas as pd\n",
    "from datasets import load_dataset\n",
    "from collections import defaultdict\n",
    "\n",
    "ds = load_dataset(\"rajpurkar/squad\")"
   ]
  },
  {
   "cell_type": "code",
   "execution_count": 2,
   "metadata": {},
   "outputs": [
    {
     "data": {
      "text/plain": [
       "DatasetDict({\n",
       "    train: Dataset({\n",
       "        features: ['id', 'title', 'context', 'question', 'answers'],\n",
       "        num_rows: 87599\n",
       "    })\n",
       "    validation: Dataset({\n",
       "        features: ['id', 'title', 'context', 'question', 'answers'],\n",
       "        num_rows: 10570\n",
       "    })\n",
       "})"
      ]
     },
     "execution_count": 2,
     "metadata": {},
     "output_type": "execute_result"
    }
   ],
   "source": [
    "ds"
   ]
  },
  {
   "cell_type": "code",
   "execution_count": 3,
   "metadata": {},
   "outputs": [
    {
     "data": {
      "text/plain": [
       "{'id': '5733be284776f41900661182',\n",
       " 'title': 'University_of_Notre_Dame',\n",
       " 'context': 'Architecturally, the school has a Catholic character. Atop the Main Building\\'s gold dome is a golden statue of the Virgin Mary. Immediately in front of the Main Building and facing it, is a copper statue of Christ with arms upraised with the legend \"Venite Ad Me Omnes\". Next to the Main Building is the Basilica of the Sacred Heart. Immediately behind the basilica is the Grotto, a Marian place of prayer and reflection. It is a replica of the grotto at Lourdes, France where the Virgin Mary reputedly appeared to Saint Bernadette Soubirous in 1858. At the end of the main drive (and in a direct line that connects through 3 statues and the Gold Dome), is a simple, modern stone statue of Mary.',\n",
       " 'question': 'To whom did the Virgin Mary allegedly appear in 1858 in Lourdes France?',\n",
       " 'answers': {'text': ['Saint Bernadette Soubirous'], 'answer_start': [515]}}"
      ]
     },
     "execution_count": 3,
     "metadata": {},
     "output_type": "execute_result"
    }
   ],
   "source": [
    "ds[\"train\"][0]"
   ]
  },
  {
   "cell_type": "code",
   "execution_count": 4,
   "metadata": {},
   "outputs": [],
   "source": [
    "# ds[\"train\"][0]\n",
    "# {'id': '5733be284776f41900661182',\n",
    "#  'title': 'University_of_Notre_Dame',\n",
    "#  'context': 'Architecturally, the school has a Catholic character. Atop the Main Building\\'s gold dome is a golden statue of the Virgin Mary. Immediately in front of the Main Building and facing it, is a copper statue of Christ with arms upraised with the legend \"Venite Ad Me Omnes\". Next to the Main Building is the Basilica of the Sacred Heart. Immediately behind the basilica is the Grotto, a Marian place of prayer and reflection. It is a replica of the grotto at Lourdes, France where the Virgin Mary reputedly appeared to Saint Bernadette Soubirous in 1858. At the end of the main drive (and in a direct line that connects through 3 statues and the Gold Dome), is a simple, modern stone statue of Mary.',\n",
    "#  'question': 'To whom did the Virgin Mary allegedly appear in 1858 in Lourdes France?',\n",
    "#  'answers': {'text': ['Saint Bernadette Soubirous'], 'answer_start': [515]}}\n",
    "data = defaultdict(list)\n",
    "for i in range(len(ds[\"train\"])):\n",
    "    data[ds[\"train\"][i][\"context\"]].append(ds[\"train\"][i][\"question\"])\n",
    "for i in range(len(ds[\"validation\"])):\n",
    "    data[ds[\"train\"][i][\"context\"]].append(ds[\"train\"][i][\"question\"])\n",
    "keys = list(data.keys())"
   ]
  },
  {
   "cell_type": "code",
   "execution_count": 5,
   "metadata": {},
   "outputs": [
    {
     "name": "stdout",
     "output_type": "stream",
     "text": [
      "15268\n"
     ]
    }
   ],
   "source": [
    "count = 0\n",
    "for key in keys:\n",
    "    if len(set(data[key])) >= 4:\n",
    "        count += 1\n",
    "print(count)\n"
   ]
  },
  {
   "cell_type": "code",
   "execution_count": 6,
   "metadata": {},
   "outputs": [],
   "source": [
    "for key in keys:\n",
    "    if len(set(data[key])) < 4:\n",
    "        del data[key]\n",
    "    "
   ]
  },
  {
   "cell_type": "code",
   "execution_count": 7,
   "metadata": {},
   "outputs": [
    {
     "name": "stderr",
     "output_type": "stream",
     "text": [
      "/tmp/ipykernel_62768/3753069355.py:3: DeprecationWarning: Sampling from a set deprecated\n",
      "since Python 3.9 and will be removed in a subsequent version.\n",
      "  sampled_data[key] = random.sample(set(data[key]), 4)\n"
     ]
    }
   ],
   "source": [
    "sampled_data = defaultdict(list)\n",
    "for key in data.keys():\n",
    "    sampled_data[key] = random.sample(set(data[key]), 4)"
   ]
  },
  {
   "cell_type": "code",
   "execution_count": 8,
   "metadata": {},
   "outputs": [],
   "source": [
    "with open(\"data.jsonl\", \"w\") as f:\n",
    "    for key in sampled_data.keys():\n",
    "        f.write(json.dumps({\"context\": key, \"questions\": sampled_data[key]}) + \"\\n\")"
   ]
  },
  {
   "cell_type": "code",
   "execution_count": 10,
   "metadata": {},
   "outputs": [],
   "source": [
    "# {\n",
    "#    \"query_id\": \"<query id>\",\n",
    "#    \"query\": \"<query text>\",\n",
    "#    \"positive_passages\": [\n",
    "#      {\"docid\": \"<passage id>\", \"title\": \"<passage title>\", \"text\": \"<passage body>\"},\n",
    "#      ...\n",
    "#    ],\n",
    "#    \"negative_passages\": [\n",
    "#      {\"docid\": \"<passage id>\", \"title\": \"<passage title>\", \"text\": \"<passage body>\"},\n",
    "#      ...\n",
    "#    ]\n",
    "# }\n",
    "with open(\"dataset.jsonl\", \"w\") as f:\n",
    "    for key in sampled_data.keys():\n",
    "        for question in sampled_data[key]:\n",
    "            f.write(json.dumps({\"query_id\": str(uuid4()), \"query\": question, \"positive_passages\": [{\"docid\": str(uuid4()), \"title\": \"title\", \"text\": key}], \"negative_passages\": []}) + \"\\n\")\n",
    "        # break"
   ]
  },
  {
   "cell_type": "code",
   "execution_count": null,
   "metadata": {},
   "outputs": [],
   "source": []
  }
 ],
 "metadata": {
  "kernelspec": {
   "display_name": "Python 3",
   "language": "python",
   "name": "python3"
  },
  "language_info": {
   "codemirror_mode": {
    "name": "ipython",
    "version": 3
   },
   "file_extension": ".py",
   "mimetype": "text/x-python",
   "name": "python",
   "nbconvert_exporter": "python",
   "pygments_lexer": "ipython3",
   "version": "3.10.12"
  }
 },
 "nbformat": 4,
 "nbformat_minor": 2
}
